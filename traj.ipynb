{
 "cells": [
  {
   "cell_type": "code",
   "execution_count": 79,
   "metadata": {},
   "outputs": [],
   "source": [
    "from loco_mujoco.trajectory import Trajectory, TrajectoryInfo, TrajectoryModel, TrajectoryData\n",
    "# load /Users/benediktstroebl/Documents/GitHub/loco-mujoco/amass_conv/SMPLBoxing/CMU/CMU/13/13_07_poses.npz\n",
    "from loco_mujoco.trajectory import Trajectory\n",
    "traj = Trajectory.load(\"/Users/benediktstroebl/Documents/GitHub/loco-mujoco/amass_conv/MJHumanoid/CMU/CMU/13/13_17_poses.npz\")"
   ]
  },
  {
   "cell_type": "code",
   "execution_count": 80,
   "metadata": {},
   "outputs": [
    {
     "name": "stdout",
     "output_type": "stream",
     "text": [
      "(24,)\n",
      "(1611, 24)\n",
      "1.6256742\n"
     ]
    }
   ],
   "source": [
    "\n",
    "for i in range(traj.data.qpos.shape[0]):\n",
    "    print(traj.data.qpos[i].shape)\n",
    "    print(traj.data.qpos.shape)\n",
    "    print(traj.data.qpos[i][2])\n",
    "    break"
   ]
  },
  {
   "cell_type": "code",
   "execution_count": 168,
   "metadata": {},
   "outputs": [],
   "source": [
    "new_arrays = []\n",
    "OFFSET = 0.43\n",
    "\n",
    "import numpy as np\n",
    "import jax.numpy as jnp\n",
    "\n",
    "for i in range(traj.data.qpos.shape[0]):\n",
    "    new_arrays.append(np.array(traj.data.qpos[i].at[2].subtract(OFFSET)))\n"
   ]
  },
  {
   "cell_type": "code",
   "execution_count": 169,
   "metadata": {},
   "outputs": [],
   "source": [
    "new_traj = Trajectory(\n",
    "    TrajectoryInfo(joint_names=traj.info.joint_names, model=traj.info.model, frequency=traj.info.frequency, body_names=traj.info.body_names, site_names=traj.info.site_names, metadata=traj.info.metadata),\n",
    "    TrajectoryData(\n",
    "        qpos=jnp.array(np.array(new_arrays)), \n",
    "        qvel=traj.data.qvel, \n",
    "        split_points=jnp.array([0, traj.data.qpos.shape[0]]),\n",
    "        xpos=traj.data.xpos,\n",
    "        xquat=traj.data.xquat,\n",
    "        cvel=traj.data.cvel,\n",
    "        subtree_com=traj.data.subtree_com,\n",
    "        site_xpos=traj.data.site_xpos,\n",
    "        site_xmat=traj.data.site_xmat,\n",
    "        ),\n",
    ")\n"
   ]
  },
  {
   "cell_type": "code",
   "execution_count": 170,
   "metadata": {},
   "outputs": [
    {
     "name": "stdout",
     "output_type": "stream",
     "text": [
      "(24,)\n",
      "(1611, 24)\n",
      "(1611, 23)\n",
      "1.1956742\n"
     ]
    }
   ],
   "source": [
    "\n",
    "for i in range(new_traj.data.qpos.shape[0]):\n",
    "    print(new_traj.data.qpos[i].shape)\n",
    "    print(new_traj.data.qpos.shape)\n",
    "    print(new_traj.data.qvel.shape)\n",
    "    print(new_traj.data.qpos[i][2])\n",
    "    break"
   ]
  },
  {
   "cell_type": "code",
   "execution_count": 171,
   "metadata": {},
   "outputs": [],
   "source": [
    "from loco_mujoco.environments import SMPLBoxing, MJHumanoid\n",
    "env = MJHumanoid()\n"
   ]
  },
  {
   "cell_type": "code",
   "execution_count": 172,
   "metadata": {},
   "outputs": [
    {
     "name": "stderr",
     "output_type": "stream",
     "text": [
      " 46%|████▌     | 229/500 [00:02<00:03, 81.41it/s]\n"
     ]
    },
    {
     "ename": "NameError",
     "evalue": "name 'exit' is not defined",
     "output_type": "error",
     "traceback": [
      "\u001b[31m---------------------------------------------------------------------------\u001b[39m",
      "\u001b[31mNameError\u001b[39m                                 Traceback (most recent call last)",
      "\u001b[36mCell\u001b[39m\u001b[36m \u001b[39m\u001b[32mIn[172]\u001b[39m\u001b[32m, line 2\u001b[39m\n\u001b[32m      1\u001b[39m env.load_trajectory(new_traj)\n\u001b[32m----> \u001b[39m\u001b[32m2\u001b[39m \u001b[43menv\u001b[49m\u001b[43m.\u001b[49m\u001b[43mplay_trajectory\u001b[49m\u001b[43m(\u001b[49m\u001b[43mn_steps_per_episode\u001b[49m\u001b[43m=\u001b[49m\u001b[32;43m500\u001b[39;49m\u001b[43m,\u001b[49m\u001b[43m \u001b[49m\u001b[43mn_episodes\u001b[49m\u001b[43m=\u001b[49m\u001b[32;43m2\u001b[39;49m\u001b[43m)\u001b[49m\n",
      "\u001b[36mFile \u001b[39m\u001b[32m~/Documents/GitHub/loco-mujoco/loco_mujoco/environments/base.py:495\u001b[39m, in \u001b[36mLocoEnv.play_trajectory\u001b[39m\u001b[34m(self, n_episodes, n_steps_per_episode, from_velocity, render, record, recorder_params, callback_class, quiet, key)\u001b[39m\n\u001b[32m    492\u001b[39m obs, \u001b[38;5;28mself\u001b[39m._additional_carry = \u001b[38;5;28mself\u001b[39m._create_observation(\u001b[38;5;28mself\u001b[39m._model, \u001b[38;5;28mself\u001b[39m._data, \u001b[38;5;28mself\u001b[39m._additional_carry)\n\u001b[32m    494\u001b[39m \u001b[38;5;28;01mif\u001b[39;00m render:\n\u001b[32m--> \u001b[39m\u001b[32m495\u001b[39m     frame = \u001b[38;5;28;43mself\u001b[39;49m\u001b[43m.\u001b[49m\u001b[43mrender\u001b[49m\u001b[43m(\u001b[49m\u001b[43mrecord\u001b[49m\u001b[43m)\u001b[49m\n\u001b[32m    496\u001b[39m \u001b[38;5;28;01melse\u001b[39;00m:\n\u001b[32m    497\u001b[39m     frame = \u001b[38;5;28;01mNone\u001b[39;00m\n",
      "\u001b[36mFile \u001b[39m\u001b[32m~/Documents/GitHub/loco-mujoco/loco_mujoco/core/mujoco_base.py:313\u001b[39m, in \u001b[36mMujoco.render\u001b[39m\u001b[34m(self, record)\u001b[39m\n\u001b[32m    310\u001b[39m     \u001b[38;5;28mself\u001b[39m._model.hfield_data = hfield_data\n\u001b[32m    311\u001b[39m     \u001b[38;5;28mself\u001b[39m._viewer.upload_hfield(\u001b[38;5;28mself\u001b[39m._model, hfield_id=\u001b[38;5;28mself\u001b[39m._terrain.hfield_id)\n\u001b[32m--> \u001b[39m\u001b[32m313\u001b[39m \u001b[38;5;28;01mreturn\u001b[39;00m \u001b[38;5;28;43mself\u001b[39;49m\u001b[43m.\u001b[49m\u001b[43m_viewer\u001b[49m\u001b[43m.\u001b[49m\u001b[43mrender\u001b[49m\u001b[43m(\u001b[49m\u001b[38;5;28;43mself\u001b[39;49m\u001b[43m.\u001b[49m\u001b[43m_data\u001b[49m\u001b[43m,\u001b[49m\u001b[43m \u001b[49m\u001b[38;5;28;43mself\u001b[39;49m\u001b[43m.\u001b[49m\u001b[43m_additional_carry\u001b[49m\u001b[43m,\u001b[49m\u001b[43m \u001b[49m\u001b[43mrecord\u001b[49m\u001b[43m)\u001b[49m\n",
      "\u001b[36mFile \u001b[39m\u001b[32m~/Documents/GitHub/loco-mujoco/loco_mujoco/core/visuals/viewer.py:454\u001b[39m, in \u001b[36mMujocoViewer.render\u001b[39m\u001b[34m(self, data, carry, record)\u001b[39m\n\u001b[32m    452\u001b[39m     \u001b[38;5;28mself\u001b[39m._loop_count += \u001b[38;5;28mself\u001b[39m.dt / (\u001b[38;5;28mself\u001b[39m._time_per_render * \u001b[38;5;28mself\u001b[39m._run_speed_factor)\n\u001b[32m    453\u001b[39m \u001b[38;5;28;01mwhile\u001b[39;00m \u001b[38;5;28mself\u001b[39m._loop_count > \u001b[32m0\u001b[39m:\n\u001b[32m--> \u001b[39m\u001b[32m454\u001b[39m     \u001b[43mrender_inner_loop\u001b[49m\u001b[43m(\u001b[49m\u001b[38;5;28;43mself\u001b[39;49m\u001b[43m)\u001b[49m\n\u001b[32m    455\u001b[39m     \u001b[38;5;28mself\u001b[39m._set_camera()\n\u001b[32m    456\u001b[39m     \u001b[38;5;28mself\u001b[39m._loop_count -= \u001b[32m1\u001b[39m\n",
      "\u001b[36mFile \u001b[39m\u001b[32m~/Documents/GitHub/loco-mujoco/loco_mujoco/core/visuals/viewer.py:439\u001b[39m, in \u001b[36mMujocoViewer.render.<locals>.render_inner_loop\u001b[39m\u001b[34m(self)\u001b[39m\n\u001b[32m    437\u001b[39m     \u001b[38;5;28;01mif\u001b[39;00m glfw.window_should_close(\u001b[38;5;28mself\u001b[39m._window):\n\u001b[32m    438\u001b[39m         \u001b[38;5;28mself\u001b[39m.stop()\n\u001b[32m--> \u001b[39m\u001b[32m439\u001b[39m         \u001b[43mexit\u001b[49m(\u001b[32m0\u001b[39m)\n\u001b[32m    441\u001b[39m \u001b[38;5;28mself\u001b[39m.frames += \u001b[32m1\u001b[39m\n\u001b[32m    442\u001b[39m \u001b[38;5;28mself\u001b[39m._overlay.clear()\n",
      "\u001b[31mNameError\u001b[39m: name 'exit' is not defined"
     ]
    }
   ],
   "source": [
    "env.load_trajectory(new_traj)\n",
    "env.play_trajectory(n_steps_per_episode=500, n_episodes=2)"
   ]
  },
  {
   "cell_type": "code",
   "execution_count": 173,
   "metadata": {},
   "outputs": [],
   "source": [
    "new_traj.save(\"/Users/benediktstroebl/Documents/GitHub/loco-mujoco/amass_conv/MJHumanoid/CMU/CMU/13/13_17_poses.npz\")"
   ]
  },
  {
   "cell_type": "code",
   "execution_count": null,
   "metadata": {},
   "outputs": [],
   "source": []
  }
 ],
 "metadata": {
  "kernelspec": {
   "display_name": "loco",
   "language": "python",
   "name": "python3"
  },
  "language_info": {
   "codemirror_mode": {
    "name": "ipython",
    "version": 3
   },
   "file_extension": ".py",
   "mimetype": "text/x-python",
   "name": "python",
   "nbconvert_exporter": "python",
   "pygments_lexer": "ipython3",
   "version": "3.11.12"
  }
 },
 "nbformat": 4,
 "nbformat_minor": 2
}
