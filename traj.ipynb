{
 "cells": [
  {
   "cell_type": "code",
   "execution_count": 1,
   "metadata": {},
   "outputs": [],
   "source": [
    "from loco_mujoco.trajectory import Trajectory, TrajectoryInfo, TrajectoryModel, TrajectoryData\n",
    "# load /Users/benediktstroebl/Documents/GitHub/loco-mujoco/amass_conv/SMPLBoxing/CMU/CMU/13/13_07_poses.npz\n",
    "from loco_mujoco.trajectory import Trajectory\n",
    "traj = Trajectory.load(\"/Users/benediktstroebl/Documents/GitHub/loco-mujoco/amass_conv/SMPLBoxing/CMU/CMU/13/13_17_poses.npz\")"
   ]
  },
  {
   "cell_type": "code",
   "execution_count": 39,
   "metadata": {},
   "outputs": [
    {
     "name": "stdout",
     "output_type": "stream",
     "text": [
      "(76,)\n",
      "(1611, 76)\n",
      "0.9763867\n"
     ]
    }
   ],
   "source": [
    "\n",
    "for i in range(traj.data.qpos.shape[0]):\n",
    "    print(traj.data.qpos[i].shape)\n",
    "    print(traj.data.qpos.shape)\n",
    "    print(traj.data.qpos[i][2])\n",
    "    break"
   ]
  },
  {
   "cell_type": "code",
   "execution_count": 40,
   "metadata": {},
   "outputs": [],
   "source": [
    "new_arrays = []\n",
    "OFFSET = 0.05\n",
    "\n",
    "import numpy as np\n",
    "import jax.numpy as jnp\n",
    "\n",
    "for i in range(traj.data.qpos.shape[0]):\n",
    "    new_arrays.append(np.array(traj.data.qpos[i].at[2].subtract(OFFSET)))\n"
   ]
  },
  {
   "cell_type": "code",
   "execution_count": 41,
   "metadata": {},
   "outputs": [],
   "source": [
    "new_traj = Trajectory(\n",
    "    TrajectoryInfo(joint_names=traj.info.joint_names, model=traj.info.model, frequency=traj.info.frequency, body_names=traj.info.body_names, site_names=traj.info.site_names, metadata=traj.info.metadata),\n",
    "    TrajectoryData(\n",
    "        qpos=jnp.array(np.array(new_arrays)), \n",
    "        qvel=traj.data.qvel, \n",
    "        split_points=jnp.array([0, traj.data.qpos.shape[0]]),\n",
    "        xpos=traj.data.xpos,\n",
    "        xquat=traj.data.xquat,\n",
    "        cvel=traj.data.cvel,\n",
    "        subtree_com=traj.data.subtree_com,\n",
    "        site_xpos=traj.data.site_xpos,\n",
    "        site_xmat=traj.data.site_xmat,\n",
    "        ),\n",
    ")\n"
   ]
  },
  {
   "cell_type": "code",
   "execution_count": 42,
   "metadata": {},
   "outputs": [
    {
     "name": "stdout",
     "output_type": "stream",
     "text": [
      "(76,)\n",
      "(1611, 76)\n",
      "(1611, 75)\n",
      "0.9263867\n"
     ]
    }
   ],
   "source": [
    "\n",
    "for i in range(new_traj.data.qpos.shape[0]):\n",
    "    print(new_traj.data.qpos[i].shape)\n",
    "    print(new_traj.data.qpos.shape)\n",
    "    print(new_traj.data.qvel.shape)\n",
    "    print(new_traj.data.qpos[i][2])\n",
    "    break"
   ]
  },
  {
   "cell_type": "code",
   "execution_count": 19,
   "metadata": {},
   "outputs": [],
   "source": [
    "from loco_mujoco.environments import SMPLBoxing, MJHumanoid\n",
    "env = SMPLBoxing()\n"
   ]
  },
  {
   "cell_type": "code",
   "execution_count": 43,
   "metadata": {},
   "outputs": [
    {
     "name": "stderr",
     "output_type": "stream",
     "text": [
      "100%|██████████| 500/500 [00:05<00:00, 86.04it/s]\n",
      "100%|██████████| 500/500 [00:06<00:00, 82.73it/s]\n"
     ]
    }
   ],
   "source": [
    "env.load_trajectory(new_traj)\n",
    "env.play_trajectory(n_steps_per_episode=500, n_episodes=2)"
   ]
  },
  {
   "cell_type": "code",
   "execution_count": 21,
   "metadata": {},
   "outputs": [],
   "source": [
    "new_traj.save(\"/Users/benediktstroebl/Documents/GitHub/loco-mujoco/amass_conv/SMPLBoxing/CMU/CMU/15/15_13_poses.npz\")"
   ]
  },
  {
   "cell_type": "code",
   "execution_count": null,
   "metadata": {},
   "outputs": [],
   "source": []
  }
 ],
 "metadata": {
  "kernelspec": {
   "display_name": "loco",
   "language": "python",
   "name": "python3"
  },
  "language_info": {
   "codemirror_mode": {
    "name": "ipython",
    "version": 3
   },
   "file_extension": ".py",
   "mimetype": "text/x-python",
   "name": "python",
   "nbconvert_exporter": "python",
   "pygments_lexer": "ipython3",
   "version": "3.11.12"
  }
 },
 "nbformat": 4,
 "nbformat_minor": 2
}
